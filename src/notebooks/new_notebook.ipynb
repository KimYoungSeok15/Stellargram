{
 "cells": [
  {
   "cell_type": "code",
   "execution_count": 1,
   "metadata": {
    "collapsed": true,
    "ExecuteTime": {
     "end_time": "2023-11-01T18:37:35.625865200Z",
     "start_time": "2023-11-01T18:37:27.344347900Z"
    }
   },
   "outputs": [],
   "source": [
    "%use multik"
   ]
  },
  {
   "cell_type": "code",
   "execution_count": 2,
   "outputs": [],
   "source": [
    "data class Star(\n",
    "    var id : Int? = null,\n",
    "    var hip : Int? = null,\n",
    "    var hd : Int? = null,\n",
    "    var hr : Int? = null,\n",
    "    var gl : String? = null,\n",
    "    var bf : String? = null,\n",
    "    var proper : String? = null,\n",
    "    var ra : Double? = null,\n",
    "    var dec : Double? = null,\n",
    "    var dist : Double? = null,\n",
    "    var pmra : Double? = null,\n",
    "    var pmdec : Double? = null,\n",
    "    var rv : Double? = null,\n",
    "    var mag : Double? = null,\n",
    "    var absmag : Double? = null,\n",
    "    var spect : String? = null,\n",
    "    var ci : Double? = null,\n",
    "    var x : Double? = null,\n",
    "    var y : Double? = null,\n",
    "    var z : Double? = null,\n",
    "    var vx : Double? = null,\n",
    "    var vy : Double? = null,\n",
    "    var vz : Double? = null,\n",
    "    var rarad : Double? = null,\n",
    "    var decrad : Double? = null,\n",
    "    var pmrarad : Double? = null,\n",
    "    var pmdecrad : Double? = null,\n",
    "    var bayer : String? = null,\n",
    "    var flam : Int? = null,\n",
    "    var con : String? = null,\n",
    "    var comp : Int? = null,\n",
    "    var comp_primary : Int? = null,\n",
    "    var base : String? = null,\n",
    "    var lum : Double? = null,\n",
    "    var variable : String? = null,\n",
    "    var var_min : Double? = null,\n",
    "    var var_max : Double? = null,\n",
    ")"
   ],
   "metadata": {
    "collapsed": false,
    "ExecuteTime": {
     "end_time": "2023-11-01T18:37:36.326239700Z",
     "start_time": "2023-11-01T18:37:35.626865900Z"
    }
   }
  },
  {
   "cell_type": "code",
   "execution_count": 3,
   "outputs": [],
   "source": [
    "var typeList: MutableList<String> = mutableListOf(\"Int?\", \"Int?\", \"Int?\", \"Int?\", \"String?\", \"String?\", \"String?\", \"Double?\", \"Double?\", \"Double?\", \"Double?\", \"Double?\", \"Double?\", \"Double?\", \"Double?\", \"String?\", \"Double?\", \"Double?\", \"Double?\", \"Double?\", \"Double?\", \"Double?\", \"Double?\", \"Double?\", \"Double?\", \"Double?\", \"Double?\", \"String?\", \"Int?\", \"String?\", \"Int?\", \"Int?\", \"String?\", \"Double?\", \"String?\", \"Double?\", \"Double?\")"
   ],
   "metadata": {
    "collapsed": false,
    "ExecuteTime": {
     "end_time": "2023-11-01T18:37:36.494727700Z",
     "start_time": "2023-11-01T18:37:36.309384400Z"
    }
   }
  },
  {
   "cell_type": "markdown",
   "source": [],
   "metadata": {
    "collapsed": false
   }
  },
  {
   "cell_type": "code",
   "execution_count": 5,
   "outputs": [],
   "source": [
    "fun changeType(data: String, type: String): Any?{\n",
    "    when(type){\n",
    "        \"Int?\" -> return data.toIntOrNull()\n",
    "        \"Double?\" -> return data.toDoubleOrNull()\n",
    "        \"String?\" -> return data\n",
    "        else -> throw IllegalAccessException()\n",
    "    }\n",
    "}"
   ],
   "metadata": {
    "collapsed": false,
    "ExecuteTime": {
     "end_time": "2023-11-01T18:37:38.279509800Z",
     "start_time": "2023-11-01T18:37:38.190327800Z"
    }
   }
  },
  {
   "cell_type": "code",
   "execution_count": 6,
   "outputs": [],
   "source": [
    "import java.io.BufferedReader\n",
    "import java.io.File\n",
    "import java.io.FileReader\n",
    "import kotlin.reflect.KMutableProperty\n",
    "import kotlin.reflect.full.memberProperties\n",
    "import kotlin.streams.toList\n",
    "\n",
    "fun readCsv(fileName: String, typeList: MutableList<String>): MutableList<Star> {\n",
    "    val file = File(fileName)\n",
    "    val reader = BufferedReader(FileReader(file))\n",
    "\n",
    "    val header = reader.readLine()\n",
    "    var properList = header.split(\",\").toMutableList()\n",
    "\n",
    "    for ((i, item) in properList.withIndex()) {\n",
    "        if (item == \"var\") {\n",
    "            properList[i] = \"variable\"\n",
    "        }\n",
    "    }\n",
    "\n",
    "    val data = reader.lines().toList()\n",
    "    var i = 0\n",
    "\n",
    "    var starList: MutableList<Star> = mutableListOf()\n",
    "    for (line in data) {\n",
    "        i++\n",
    "        var star = Star()\n",
    "        val stringData = line.split(',')\n",
    "\n",
    "        for ((i, propertyName) in properList.withIndex()) {\n",
    "            val property = star::class.memberProperties.find { it.name == propertyName }\n",
    "\n",
    "            val type = typeList[i]\n",
    "            val value = changeType(stringData[i], type)\n",
    "\n",
    "            if (property != null && property is KMutableProperty<*>) {\n",
    "                property.setter.call(star, value)\n",
    "            }\n",
    "        }\n",
    "        starList.add(star)\n",
    "    }\n",
    "    return starList\n",
    "}\n",
    "var starList = readCsv(\"./hyg_v37.csv\", typeList)"
   ],
   "metadata": {
    "collapsed": false,
    "ExecuteTime": {
     "end_time": "2023-11-01T18:37:51.877863200Z",
     "start_time": "2023-11-01T18:37:40.974905900Z"
    }
   }
  },
  {
   "cell_type": "code",
   "execution_count": 7,
   "outputs": [],
   "source": [
    "var new_starList = starList.subList(1, starList.size)"
   ],
   "metadata": {
    "collapsed": false,
    "ExecuteTime": {
     "end_time": "2023-11-01T18:37:51.924465400Z",
     "start_time": "2023-11-01T18:37:51.876950Z"
    }
   }
  },
  {
   "cell_type": "code",
   "execution_count": 8,
   "outputs": [
    {
     "name": "stdout",
     "output_type": "stream",
     "text": [
      "ra:0.054757002 dec:0.429985749\r\n"
     ]
    }
   ],
   "source": [
    "println(\"ra:${new_starList[1000].rarad} dec:${new_starList[1000].decrad}\")"
   ],
   "metadata": {
    "collapsed": false,
    "ExecuteTime": {
     "end_time": "2023-11-01T18:37:51.979945100Z",
     "start_time": "2023-11-01T18:37:51.924465400Z"
    }
   }
  },
  {
   "cell_type": "code",
   "execution_count": 9,
   "outputs": [],
   "source": [
    "var stars = mutableListOf<List<Double>>()\n",
    "\n",
    "for(star in new_starList){\n",
    "    val ra = star.rarad?.toDouble() as Double\n",
    "    val dec = star.decrad?.toDouble() as Double\n",
    "    val lis = listOf(cos(ra) * cos(dec), cos(dec) * sin(ra), sin(dec))\n",
    "    stars.add(lis)\n",
    "}\n",
    "\n",
    "var starList = stars.toList()"
   ],
   "metadata": {
    "collapsed": false,
    "ExecuteTime": {
     "end_time": "2023-11-01T18:37:52.210547300Z",
     "start_time": "2023-11-01T18:37:51.979945100Z"
    }
   }
  },
  {
   "cell_type": "code",
   "execution_count": 15,
   "outputs": [],
   "source": [
    "var starArray =  mk.ndarray(starList)"
   ],
   "metadata": {
    "collapsed": false,
    "ExecuteTime": {
     "end_time": "2023-11-01T18:43:34.908366Z",
     "start_time": "2023-11-01T18:43:34.830239600Z"
    }
   }
  },
  {
   "cell_type": "code",
   "execution_count": 11,
   "outputs": [],
   "source": [
    "fun makeLocation(starList: List<Star>): NDArray<*, *>{\n",
    "    var stars = mutableListOf<List<Double>>()\n",
    "\n",
    "    for(star in new_starList){\n",
    "        val ra = star.rarad?.toDouble() as Double\n",
    "        val dec = star.decrad?.toDouble() as Double\n",
    "        val lis = listOf(cos(ra) * cos(dec), cos(dec) * sin(ra), sin(dec), star.id?.toDouble() as Double, star.mag as Double)\n",
    "        stars.add(lis)\n",
    "    }\n",
    "\n",
    "    var starList = stars.toList()\n",
    "    return mk.ndarray(starList)\n",
    "}"
   ],
   "metadata": {
    "collapsed": false,
    "ExecuteTime": {
     "end_time": "2023-11-01T18:37:58.847094600Z",
     "start_time": "2023-11-01T18:37:58.710332Z"
    }
   }
  },
  {
   "cell_type": "code",
   "execution_count": 12,
   "outputs": [],
   "source": [
    "var starArray = makeLocation(new_starList)"
   ],
   "metadata": {
    "collapsed": false,
    "ExecuteTime": {
     "end_time": "2023-11-01T18:38:04.229872200Z",
     "start_time": "2023-11-01T18:38:04.081963500Z"
    }
   }
  },
  {
   "cell_type": "code",
   "execution_count": 13,
   "outputs": [],
   "source": [
    "fun getXAxis(theta: Double, phi: Double): List<Double>{\n",
    "    return listOf(cos(theta) * cos(phi), sin(theta) * cos(phi), sin(phi), 1.0, 1.0)\n",
    "}\n",
    "\n",
    "fun getZAxis(theta: Double, phi: Double): List<Double>{\n",
    "    return getXAxis(theta, phi + PI * 0.5)\n",
    "}\n",
    "\n",
    "fun crossProduct(arr1: List<Double>, arr2: List<Double>): List<Double>{\n",
    "    return listOf(arr1[1] * arr2[2] - arr1[2] * arr2[1], arr1[2] * arr2[0] - arr1[0] * arr2[2], arr1[0] * arr2[1] - arr2[0] * arr1[1], 1.0, 1.0)\n",
    "}\n",
    "\n",
    "fun getYAxis(theta: Double, phi: Double): List<Double>{\n",
    "    return crossProduct(getZAxis(theta, phi), getXAxis(theta, phi))\n",
    "}\n",
    "\n",
    "fun getTransformMatrix(theta: Double, phi: Double): NDArray<*, *>{\n",
    "    val new_theta = theta * PI / 180\n",
    "    val new_phi = phi * PI / 180\n",
    "    return mk.ndarray(listOf(getXAxis(new_theta, new_phi), getYAxis(new_theta, new_phi), getZAxis(new_theta, new_phi)))\n",
    "}"
   ],
   "metadata": {
    "collapsed": false,
    "ExecuteTime": {
     "end_time": "2023-11-01T18:38:06.129085900Z",
     "start_time": "2023-11-01T18:38:05.955144900Z"
    }
   }
  },
  {
   "cell_type": "code",
   "execution_count": 14,
   "outputs": [],
   "source": [
    "fun changeCoords(theta: Double, phi: Double, starArray: NDArray<*, *>): NDArray<*, *> {\n",
    "    val trans = getTransformMatrix(theta, phi)\n",
    "    return mk.linalg.dot(trans.asDNArray() as MultiArray<Double, D2>, starArray.transpose().asDNArray() as MultiArray < Double, D2 >)\n",
    "}\n",
    "\n",
    "val b = changeCoords(60.0, -30.0, starArray)"
   ],
   "metadata": {
    "collapsed": false,
    "ExecuteTime": {
     "end_time": "2023-11-01T18:38:10.161683400Z",
     "start_time": "2023-11-01T18:38:09.378879800Z"
    }
   }
  }
 ],
 "metadata": {
  "kernelspec": {
   "display_name": "Kotlin",
   "language": "kotlin",
   "name": "kotlin"
  },
  "language_info": {
   "name": "kotlin",
   "version": "1.8.20",
   "mimetype": "text/x-kotlin",
   "file_extension": ".kt",
   "pygments_lexer": "kotlin",
   "codemirror_mode": "text/x-kotlin",
   "nbconvert_exporter": ""
  },
  "ktnbPluginMetadata": {
   "projectLibraries": []
  }
 },
 "nbformat": 4,
 "nbformat_minor": 0
}
