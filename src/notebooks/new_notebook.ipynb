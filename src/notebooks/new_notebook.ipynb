{
 "cells": [
  {
   "cell_type": "code",
   "execution_count": 1,
   "metadata": {
    "collapsed": true,
    "ExecuteTime": {
     "end_time": "2023-11-07T08:10:20.771867400Z",
     "start_time": "2023-11-07T08:10:20.150431500Z"
    }
   },
   "outputs": [],
   "source": [
    "%use multik"
   ]
  },
  {
   "cell_type": "code",
   "execution_count": 2,
   "outputs": [],
   "source": [
    "data class Star(\n",
    "    var id : Int? = null,\n",
    "    var hip : Int? = null,\n",
    "    var hd : Int? = null,\n",
    "    var hr : Int? = null,\n",
    "    var gl : String? = null,\n",
    "    var bf : String? = null,\n",
    "    var proper : String? = null,\n",
    "    var ra : Double? = null,\n",
    "    var dec : Double? = null,\n",
    "    var dist : Double? = null,\n",
    "    var pmra : Double? = null,\n",
    "    var pmdec : Double? = null,\n",
    "    var rv : Double? = null,\n",
    "    var mag : Double? = null,\n",
    "    var absmag : Double? = null,\n",
    "    var spect : String? = null,\n",
    "    var ci : Double? = null,\n",
    "    var x : Double? = null,\n",
    "    var y : Double? = null,\n",
    "    var z : Double? = null,\n",
    "    var vx : Double? = null,\n",
    "    var vy : Double? = null,\n",
    "    var vz : Double? = null,\n",
    "    var rarad : Double? = null,\n",
    "    var decrad : Double? = null,\n",
    "    var pmrarad : Double? = null,\n",
    "    var pmdecrad : Double? = null,\n",
    "    var bayer : String? = null,\n",
    "    var flam : Int? = null,\n",
    "    var con : String? = null,\n",
    "    var comp : Int? = null,\n",
    "    var comp_primary : Int? = null,\n",
    "    var base : String? = null,\n",
    "    var lum : Double? = null,\n",
    "    var variable : String? = null,\n",
    "    var var_min : Double? = null,\n",
    "    var var_max : Double? = null,\n",
    ")"
   ],
   "metadata": {
    "collapsed": false,
    "ExecuteTime": {
     "end_time": "2023-11-07T08:10:21.431162100Z",
     "start_time": "2023-11-07T08:10:20.768568400Z"
    }
   }
  },
  {
   "cell_type": "code",
   "execution_count": 3,
   "outputs": [],
   "source": [
    "var typeList: MutableList<String> = mutableListOf(\"Int?\", \"Int?\", \"Int?\", \"Int?\", \"String?\", \"String?\", \"String?\", \"Double?\", \"Double?\", \"Double?\", \"Double?\", \"Double?\", \"Double?\", \"Double?\", \"Double?\", \"String?\", \"Double?\", \"Double?\", \"Double?\", \"Double?\", \"Double?\", \"Double?\", \"Double?\", \"Double?\", \"Double?\", \"Double?\", \"Double?\", \"String?\", \"Int?\", \"String?\", \"Int?\", \"Int?\", \"String?\", \"Double?\", \"String?\", \"Double?\", \"Double?\")"
   ],
   "metadata": {
    "collapsed": false,
    "ExecuteTime": {
     "end_time": "2023-11-07T08:10:21.568714400Z",
     "start_time": "2023-11-07T08:10:21.429163900Z"
    }
   }
  },
  {
   "cell_type": "markdown",
   "source": [],
   "metadata": {
    "collapsed": false
   }
  },
  {
   "cell_type": "code",
   "execution_count": 4,
   "outputs": [],
   "source": [
    "fun changeType(data: String, type: String): Any?{\n",
    "    when(type){\n",
    "        \"Int?\" -> return data.toIntOrNull()\n",
    "        \"Double?\" -> return data.toDoubleOrNull()\n",
    "        \"String?\" -> return data\n",
    "        else -> throw IllegalAccessException()\n",
    "    }\n",
    "}"
   ],
   "metadata": {
    "collapsed": false,
    "ExecuteTime": {
     "end_time": "2023-11-07T08:10:21.684536200Z",
     "start_time": "2023-11-07T08:10:21.567714200Z"
    }
   }
  },
  {
   "cell_type": "code",
   "execution_count": 5,
   "outputs": [],
   "source": [
    "import java.io.BufferedReader\n",
    "import java.io.File\n",
    "import java.io.FileReader\n",
    "import kotlin.reflect.KMutableProperty\n",
    "import kotlin.reflect.full.memberProperties\n",
    "import kotlin.streams.toList\n",
    "\n",
    "fun readCsv(fileName: String, typeList: MutableList<String>): MutableList<Star> {\n",
    "    val file = File(fileName)\n",
    "    val reader = BufferedReader(FileReader(file))\n",
    "\n",
    "    val header = reader.readLine()\n",
    "    var properList = header.split(\",\").toMutableList()\n",
    "\n",
    "    for ((i, item) in properList.withIndex()) {\n",
    "        if (item == \"var\") {\n",
    "            properList[i] = \"variable\"\n",
    "        }\n",
    "    }\n",
    "\n",
    "    val data = reader.lines().toList()\n",
    "    var idx = 0\n",
    "\n",
    "    var starList: MutableList<Star> = mutableListOf()\n",
    "    for (line in data) {\n",
    "        idx++\n",
    "        var star = Star()\n",
    "        val stringData = line.split(',')\n",
    "\n",
    "        for ((i, propertyName) in properList.withIndex()) {\n",
    "            val property = star::class.memberProperties.find { it.name == propertyName }\n",
    "\n",
    "            val type = typeList[i]\n",
    "            val value = changeType(stringData[i], type)\n",
    "\n",
    "            if (property != null && property is KMutableProperty<*>) {\n",
    "                property.setter.call(star, value)\n",
    "            }\n",
    "        }\n",
    "        if(star.mag as Double > 7.5) continue\n",
    "        starList.add(star)\n",
    "    }\n",
    "    return starList\n",
    "}\n",
    "var starList = readCsv(\"./hyg_v37.csv\", typeList)"
   ],
   "metadata": {
    "collapsed": false,
    "ExecuteTime": {
     "end_time": "2023-11-07T08:10:32.490879900Z",
     "start_time": "2023-11-07T08:10:21.684992500Z"
    }
   }
  },
  {
   "cell_type": "code",
   "execution_count": 6,
   "outputs": [],
   "source": [
    "var new_starList = starList.subList(0, starList.size)"
   ],
   "metadata": {
    "collapsed": false,
    "ExecuteTime": {
     "end_time": "2023-11-07T08:10:32.544964100Z",
     "start_time": "2023-11-07T08:10:32.489879200Z"
    }
   }
  },
  {
   "cell_type": "code",
   "execution_count": 7,
   "outputs": [
    {
     "name": "stdout",
     "output_type": "stream",
     "text": [
      "ra:0.284245024 dec:-1.458926445\r\n"
     ]
    }
   ],
   "source": [
    "println(\"ra:${new_starList[1000].rarad} dec:${new_starList[1000].decrad}\")"
   ],
   "metadata": {
    "collapsed": false,
    "ExecuteTime": {
     "end_time": "2023-11-07T08:10:32.616322600Z",
     "start_time": "2023-11-07T08:10:32.540805800Z"
    }
   }
  },
  {
   "cell_type": "code",
   "execution_count": 8,
   "outputs": [],
   "source": [
    "var stars = mutableListOf<List<Double>>()\n",
    "\n",
    "for(star in new_starList){\n",
    "    val ra = star.rarad?.toDouble() as Double\n",
    "    val dec = star.decrad?.toDouble() as Double\n",
    "    val lis = listOf(cos(ra) * cos(dec), cos(dec) * sin(ra), sin(dec))\n",
    "    stars.add(lis)\n",
    "}\n",
    "\n",
    "var starList = stars.toList()"
   ],
   "metadata": {
    "collapsed": false,
    "ExecuteTime": {
     "end_time": "2023-11-07T08:10:32.804291200Z",
     "start_time": "2023-11-07T08:10:32.603640800Z"
    }
   }
  },
  {
   "cell_type": "code",
   "execution_count": 9,
   "outputs": [],
   "source": [
    "var starArray =  mk.ndarray(starList)"
   ],
   "metadata": {
    "collapsed": false,
    "ExecuteTime": {
     "end_time": "2023-11-07T08:10:32.940151100Z",
     "start_time": "2023-11-07T08:10:32.803292100Z"
    }
   }
  },
  {
   "cell_type": "code",
   "execution_count": 10,
   "outputs": [],
   "source": [
    "fun makeLocation(starList: List<Star>): List<List<Double>>{\n",
    "    var stars = mutableListOf<List<Double>>()\n",
    "\n",
    "    for(star in new_starList){\n",
    "        val ra = star.rarad?.toDouble() as Double\n",
    "        val dec = star.decrad?.toDouble() as Double\n",
    "        val lis = listOf(cos(ra) * cos(dec), cos(dec) * sin(ra), sin(dec), star.id?.toDouble() as Double, star.mag as Double)\n",
    "        stars.add(lis)\n",
    "    }\n",
    "\n",
    "    var starList = stars.toList()\n",
    "    return starList\n",
    "}"
   ],
   "metadata": {
    "collapsed": false,
    "ExecuteTime": {
     "end_time": "2023-11-07T08:10:33.104948200Z",
     "start_time": "2023-11-07T08:10:32.931588900Z"
    }
   }
  },
  {
   "cell_type": "code",
   "execution_count": 11,
   "outputs": [
    {
     "name": "stdout",
     "output_type": "stream",
     "text": [
      "ArrayList"
     ]
    }
   ],
   "source": [
    "var starArray = makeLocation(new_starList)\n",
    "print(starArray::class.simpleName)"
   ],
   "metadata": {
    "collapsed": false,
    "ExecuteTime": {
     "end_time": "2023-11-07T08:10:33.180254700Z",
     "start_time": "2023-11-07T08:10:33.104892700Z"
    }
   }
  },
  {
   "cell_type": "code",
   "execution_count": 50,
   "outputs": [],
   "source": [
    "fun getXAxis(theta: Double, phi: Double): List<Double>{\n",
    "    return listOf(cos(theta) * cos(phi), sin(theta) * cos(phi), sin(phi), 0.0, 0.0)\n",
    "}\n",
    "\n",
    "fun getZAxis(theta: Double, phi: Double): List<Double>{\n",
    "    return getXAxis(theta, phi + PI * 0.5)\n",
    "}\n",
    "\n",
    "fun crossProduct(arr1: List<Double>, arr2: List<Double>): List<Double>{\n",
    "    return listOf(arr1[1] * arr2[2] - arr1[2] * arr2[1], arr1[2] * arr2[0] - arr1[0] * arr2[2], arr1[0] * arr2[1] - arr2[0] * arr1[1], 0.0, 0.0)\n",
    "}\n",
    "\n",
    "fun getYAxis(theta: Double, phi: Double): List<Double>{\n",
    "    return crossProduct(getZAxis(theta, phi), getXAxis(theta, phi))\n",
    "}\n",
    "\n",
    "fun getTransformMatrix(theta: Double, phi: Double): NDArray<Double, D2>{\n",
    "    val new_theta = theta * PI / 180\n",
    "    val new_phi = phi * PI / 180\n",
    "    return mk.ndarray(listOf(getXAxis(new_theta, new_phi), getYAxis(new_theta, new_phi), getZAxis(new_theta, new_phi), listOf(0.0, 0.0, 0.0, 1.0, 0.0),listOf(0.0, 0.0, 0.0, 0.0, 1.0)))\n",
    "}"
   ],
   "metadata": {
    "collapsed": false,
    "ExecuteTime": {
     "end_time": "2023-11-07T08:14:57.797594400Z",
     "start_time": "2023-11-07T08:14:57.702678700Z"
    }
   }
  },
  {
   "cell_type": "code",
   "execution_count": 49,
   "outputs": [
    {
     "name": "stdout",
     "output_type": "stream",
     "text": [
      "25791 5"
     ]
    }
   ],
   "source": [
    "fun changeCoords(theta: Double, phi: Double, starArray: List<List<Double>>): NDArray<Double, D2>{\n",
    "    val trans = getTransformMatrix(theta, phi)\n",
    "    val source = mk.ndarray(starArray)\n",
    "    val cc = source dot trans.transpose()\n",
    "    \n",
    "    return cc\n",
    "}\n",
    "\n",
    "val b = changeCoords(60.0, -30.0, starArray)\n",
    "val cc = b.shape\n",
    "print(\"${cc[0]} ${cc[1]}\")"
   ],
   "metadata": {
    "collapsed": false,
    "ExecuteTime": {
     "end_time": "2023-11-07T08:14:53.249083400Z",
     "start_time": "2023-11-07T08:14:53.170051100Z"
    }
   }
  },
  {
   "cell_type": "markdown",
   "source": [
    "## 2. 메르카토르 변환\n",
    "\n",
    "$ x= R(\\lambda)$, $y = R \\log{(\\sec{\\theta} + \\tan{\\theta})}$       "
   ],
   "metadata": {
    "collapsed": false
   }
  },
  {
   "cell_type": "code",
   "execution_count": 14,
   "outputs": [],
   "source": [
    "fun rem(_a: Double, _b: Double) : Double{\n",
    "    val quotient = (_a/_b).toInt()\n",
    "    return _a - quotient * _b\n",
    "}\n",
    "\n",
    "fun getAngle(_sin: Double, _cos: Double) : Double{\n",
    "    val _tan = _sin / _cos\n",
    "    var angle = if(_cos > 0.0) atan(_tan) else atan(_tan) + PI\n",
    "    return rem(angle + 2 * PI, 2 * PI)\n",
    "}\n",
    "\n",
    "val mutableList : MutableList<List<Double>> = mutableListOf()\n",
    "\n",
    "for(i in 0 until cc[0]){\n",
    "    val x = b[i][0]\n",
    "    val y = b[i][1]\n",
    "    val z = b[i][2]\n",
    "    val ind = b[i][3]\n",
    "    val mag = b[i][4]\n",
    "    \n",
    "    if(mag > 3.5) continue\n",
    "    \n",
    "    val lum = 10.0.pow(0.2 * (10 - mag))\n",
    "    \n",
    "    val theta = getAngle(y, x)\n",
    "    val phi = asin(z)\n",
    "    \n",
    "    val new_x = -theta\n",
    "    val new_y = ln((1.0/cos(phi)) + tan(phi))\n",
    "    mutableList.add(listOf(new_x, new_y, ind, lum))\n",
    "}"
   ],
   "metadata": {
    "collapsed": false,
    "ExecuteTime": {
     "end_time": "2023-11-07T08:10:34.517509400Z",
     "start_time": "2023-11-07T08:10:34.239304900Z"
    }
   }
  },
  {
   "cell_type": "code",
   "execution_count": 15,
   "outputs": [],
   "source": [
    "val plotDat = mk.ndarray(mutableList).transpose().toListD2()"
   ],
   "metadata": {
    "collapsed": false,
    "ExecuteTime": {
     "end_time": "2023-11-07T08:10:34.576879100Z",
     "start_time": "2023-11-07T08:10:34.509920100Z"
    }
   }
  },
  {
   "cell_type": "code",
   "execution_count": 16,
   "outputs": [
    {
     "data": {
      "text/html": "   <div id=\"1mnT8e\"></div>\n   <script type=\"text/javascript\" data-lets-plot-script=\"library\">\n       if(!window.letsPlotCallQueue) {\n           window.letsPlotCallQueue = [];\n       }; \n       window.letsPlotCall = function(f) {\n           window.letsPlotCallQueue.push(f);\n       };\n       (function() {\n           var script = document.createElement(\"script\");\n           script.type = \"text/javascript\";\n           script.src = \"https://cdn.jsdelivr.net/gh/JetBrains/lets-plot@v4.0.0/js-package/distr/lets-plot.min.js\";\n           script.onload = function() {\n               window.letsPlotCall = function(f) {f();};\n               window.letsPlotCallQueue.forEach(function(f) {f();});\n               window.letsPlotCallQueue = [];\n               \n               \n           };\n           script.onerror = function(event) {\n               window.letsPlotCall = function(f) {};\n               window.letsPlotCallQueue = [];\n               var div = document.createElement(\"div\");\n               div.style.color = 'darkred';\n               div.textContent = 'Error loading Lets-Plot JS';\n               document.getElementById(\"1mnT8e\").appendChild(div);\n           };\n           var e = document.getElementById(\"1mnT8e\");\n           e.appendChild(script);\n       })();\n   </script>"
     },
     "metadata": {},
     "output_type": "display_data"
    }
   ],
   "source": [
    "%use lets-plot"
   ],
   "metadata": {
    "collapsed": false,
    "ExecuteTime": {
     "end_time": "2023-11-07T08:10:39.028942600Z",
     "start_time": "2023-11-07T08:10:34.574269600Z"
    }
   }
  },
  {
   "cell_type": "code",
   "execution_count": 17,
   "outputs": [],
   "source": [
    "val data = mutableMapOf<String, List<*>>()\n",
    "data[\"x\"] = plotDat[0]\n",
    "data[\"y\"] = plotDat[1]\n",
    "data[\"mag\"] = plotDat[3]"
   ],
   "metadata": {
    "collapsed": false,
    "ExecuteTime": {
     "end_time": "2023-11-07T08:10:39.107521400Z",
     "start_time": "2023-11-07T08:10:39.020664100Z"
    }
   }
  },
  {
   "cell_type": "code",
   "execution_count": 18,
   "outputs": [
    {
     "name": "stderr",
     "output_type": "stream",
     "text": [
      "Line_25.jupyter.kts (1:56 - 58) Unresolved reference: p1\n",
      "Line_25.jupyter.kts (1:59 - 60) Unresolved reference: +"
     ]
    }
   ],
   "source": [
    "val p1 = letsPlot(data){x = \"x\"; y = \"y\"; size = \"mag\"}p1 + geomPoint(shape = 100)"
   ],
   "metadata": {
    "collapsed": false,
    "ExecuteTime": {
     "end_time": "2023-11-07T08:10:39.166026100Z",
     "start_time": "2023-11-07T08:10:39.106521600Z"
    }
   }
  },
  {
   "cell_type": "markdown",
   "source": [
    "## 3. 지평좌표계 적도좌표계 변환"
   ],
   "metadata": {
    "collapsed": false
   }
  },
  {
   "cell_type": "code",
   "execution_count": 40,
   "outputs": [
    {
     "data": {
      "text/plain": "5.170060677279028"
     },
     "execution_count": 40,
     "metadata": {},
     "output_type": "execute_result"
    }
   ],
   "source": [
    "import java.time.LocalDate\n",
    "\n",
    "fun getMeanSiderealTime(longitude: Double): Double{\n",
    "    val JD: Double = (System.currentTimeMillis() * 0.001) / 86400.0 +  2440587.5\n",
    "    val GMST = 18.697374558 + 24.06570982441908*(JD - 2451545)\n",
    "    val theta = (GMST * 15.0 + (longitude)) % 360.0\n",
    "    return theta * PI / 180.0\n",
    "}\n",
    "getMeanSiderealTime(127.039611)"
   ],
   "metadata": {
    "collapsed": false,
    "ExecuteTime": {
     "end_time": "2023-11-07T08:11:37.099167Z",
     "start_time": "2023-11-07T08:11:37.060551900Z"
    }
   }
  },
  {
   "cell_type": "code",
   "execution_count": 47,
   "outputs": [],
   "source": [
    "fun getAllRisedStars(longitude: Double, latitude: Double, starList: MutableList<Star>): MutableList<*>{\n",
    "\n",
    "    var new_latitude = latitude * PI / 180.0\n",
    "\n",
    "    val sidereal = getMeanSiderealTime(longitude)\n",
    "    val sinPhi = sin(new_latitude)\n",
    "    val cosPhi = cos(new_latitude)\n",
    "\n",
    "    var stars: MutableList<List<Double>> = mutableListOf()\n",
    "\n",
    "    for (star in starList) {\n",
    "        var dec = star.decrad as Double\n",
    "        var ra = star.rarad as Double\n",
    "        var H = sidereal - ra\n",
    "        var sina = sinPhi * sin(dec) + cosPhi * cos(dec) * cos(H)\n",
    "        if(sina < 0) continue\n",
    "        var cosa = sqrt(1.0 - sina * sina)\n",
    "        var sinA = -sin(H) * cos(dec) / cosa\n",
    "        var cosA = (sin(dec) - sinPhi * sina) / (cosPhi * cosa)\n",
    "        stars.add(listOf(cosA * cosa, sinA * cosa, sina))\n",
    "    }\n",
    "    return stars\n",
    "}\n",
    "\n",
    "val a = getAllRisedStars(127.039611, 37.501254, new_starList)"
   ],
   "metadata": {
    "collapsed": false,
    "ExecuteTime": {
     "end_time": "2023-11-07T08:13:49.710352100Z",
     "start_time": "2023-11-07T08:13:49.540020500Z"
    }
   }
  }
 ],
 "metadata": {
  "kernelspec": {
   "display_name": "Kotlin",
   "language": "kotlin",
   "name": "kotlin"
  },
  "language_info": {
   "name": "kotlin",
   "version": "1.8.20",
   "mimetype": "text/x-kotlin",
   "file_extension": ".kt",
   "pygments_lexer": "kotlin",
   "codemirror_mode": "text/x-kotlin",
   "nbconvert_exporter": ""
  },
  "ktnbPluginMetadata": {
   "projectLibraries": []
  }
 },
 "nbformat": 4,
 "nbformat_minor": 0
}
