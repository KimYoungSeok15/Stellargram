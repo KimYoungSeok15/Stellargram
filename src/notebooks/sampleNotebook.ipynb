{
 "cells": [
  {
   "cell_type": "code",
   "execution_count": 11,
   "metadata": {
    "collapsed": true,
    "ExecuteTime": {
     "end_time": "2023-11-01T02:07:19.915243300Z",
     "start_time": "2023-11-01T02:07:19.603777300Z"
    }
   },
   "outputs": [],
   "source": [
    "data class Star(\n",
    "\tvar id : Int? = null,\n",
    "\tvar hip : Int? = null,\n",
    "\tvar hd : Int? = null,\n",
    "\tvar hr : Int? = null,\n",
    "\tvar gl : String? = null,\n",
    "\tvar bf : String? = null,\n",
    "\tvar proper : String? = null,\n",
    "\tvar ra : Double? = null,\n",
    "\tvar dec : Double? = null,\n",
    "\tvar dist : Double? = null,\n",
    "\tvar pmra : Double? = null,\n",
    "\tvar pmdec : Double? = null,\n",
    "\tvar rv : Double? = null,\n",
    "\tvar mag : Double? = null,\n",
    "\tvar absmag : Double? = null,\n",
    "\tvar spect : String? = null,\n",
    "\tvar ci : Double? = null,\n",
    "\tvar x : Double? = null,\n",
    "\tvar y : Double? = null,\n",
    "\tvar z : Double? = null,\n",
    "\tvar vx : Double? = null,\n",
    "\tvar vy : Double? = null,\n",
    "\tvar vz : Double? = null,\n",
    "\tvar rarad : Double? = null,\n",
    "\tvar decrad : Double? = null,\n",
    "\tvar pmrarad : Double? = null,\n",
    "\tvar pmdecrad : Double? = null,\n",
    "\tvar bayer : String? = null,\n",
    "\tvar flam : Int? = null,\n",
    "\tvar con : String? = null,\n",
    "\tvar comp : Int? = null,\n",
    "\tvar comp_primary : Int? = null,\n",
    "\tvar base : String? = null,\n",
    "\tvar lum : Double? = null,\n",
    "\tvar variable : String? = null,\n",
    "\tvar var_min : Double? = null,\n",
    "\tvar var_max : Double? = null,\n",
    ")"
   ]
  },
  {
   "cell_type": "code",
   "execution_count": 12,
   "outputs": [],
   "source": [
    "var star = Star()\n",
    "star.id = 1"
   ],
   "metadata": {
    "collapsed": false,
    "ExecuteTime": {
     "end_time": "2023-11-01T02:07:44.668193800Z",
     "start_time": "2023-11-01T02:07:44.610066600Z"
    }
   }
  },
  {
   "cell_type": "code",
   "execution_count": 8,
   "outputs": [],
   "source": [
    "import java.io.BufferedReader\n",
    "import java.io.File\n",
    "import java.io.FileReader\n",
    "import kotlin.streams.toList\n",
    "\n",
    "fun readCsv(fileName: String) : List<String>{\n",
    "    val file = File(fileName)\n",
    "    val reader = BufferedReader(FileReader(file))\n",
    "    \n",
    "    val header = reader.readLine()\n",
    "    var properList = header.split(\",\").toMutableList()\n",
    "    \n",
    "    for((i, item) in properList.withIndex()){\n",
    "        if (item == \"var\"){\n",
    "            properList[i] = \"variable\"\n",
    "        }\n",
    "    }\n",
    "    \n",
    "    val data = reader.lines().toList()\n",
    "    for (line in data){\n",
    "        var star = Star()\n",
    "        for((i, propertyName) in properList.withIndex()){\n",
    "            star\n",
    "        }\n",
    "    }\n",
    "    return data\n",
    "}"
   ],
   "metadata": {
    "collapsed": false,
    "ExecuteTime": {
     "end_time": "2023-11-01T01:56:43.239612600Z",
     "start_time": "2023-11-01T01:56:43.138948300Z"
    }
   }
  },
  {
   "cell_type": "code",
   "execution_count": 9,
   "outputs": [
    {
     "name": "stdout",
     "output_type": "stream",
     "text": [
      "1,1,224700,,,,,0.00006,1.089009,219.7802,-5.2,-1.88,0,9.1,2.39,F5,0.482,219.740502,0.003449,4.177065,0.00000004,-0.00000554,-0.000002,1.56934E-05,0.019006788,-2.52103E-08,-9.1145E-09,,,Psc,1,1,,9.638290236,,,\r\n"
     ]
    }
   ],
   "source": [
    "val starData = readCsv(\"./hyg_v37.csv\")"
   ],
   "metadata": {
    "collapsed": false,
    "ExecuteTime": {
     "end_time": "2023-11-01T01:56:52.144864200Z",
     "start_time": "2023-11-01T01:56:52.057807Z"
    }
   }
  },
  {
   "cell_type": "code",
   "execution_count": 10,
   "outputs": [
    {
     "name": "stdout",
     "output_type": "stream",
     "text": [
      "1,1,224700,,,,,0.00006,1.089009,219.7802,-5.2,-1.88,0,9.1,2.39,F5,0.482,219.740502,0.003449,4.177065,0.00000004,-0.00000554,-0.000002,1.56934E-05,0.019006788,-2.52103E-08,-9.1145E-09,,,Psc,1,1,,9.638290236,,,\r\n"
     ]
    }
   ],
   "source": [],
   "metadata": {
    "collapsed": false,
    "ExecuteTime": {
     "end_time": "2023-11-01T01:57:05.566320500Z",
     "start_time": "2023-11-01T01:57:05.521931300Z"
    }
   }
  }
 ],
 "metadata": {
  "kernelspec": {
   "display_name": "Kotlin",
   "language": "kotlin",
   "name": "kotlin"
  },
  "language_info": {
   "name": "kotlin",
   "version": "1.9.0",
   "mimetype": "text/x-kotlin",
   "file_extension": ".kt",
   "pygments_lexer": "kotlin",
   "codemirror_mode": "text/x-kotlin",
   "nbconvert_exporter": ""
  }
 },
 "nbformat": 4,
 "nbformat_minor": 0
}
